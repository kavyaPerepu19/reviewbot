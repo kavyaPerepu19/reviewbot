{
 "cells": [
  {
   "cell_type": "code",
   "execution_count": 70,
   "id": "5c876637",
   "metadata": {},
   "outputs": [],
   "source": [
    "\n",
    "import requests\n",
    "import pandas as pd\n",
    "from bs4 import BeautifulSoup\n",
    "from datetime import datetime"
   ]
  },
  {
   "cell_type": "code",
   "execution_count": 71,
   "id": "d3fa2952",
   "metadata": {},
   "outputs": [],
   "source": [
    "\n",
    "headers = {\n",
    "    'authority': 'www.amazon.com',\n",
    "    'accept': 'text/html,application/xhtml+xml,application/xml;q=0.9,image/avif,image/webp,image/apng,*/*;q=0.8,application/signed-exchange;v=b3;q=0.9',\n",
    "    'accept-language': 'en-US,en;q=0.9,bn;q=0.8',\n",
    "    'sec-ch-ua': '\" Not A;Brand\";v=\"99\", \"Chromium\";v=\"102\", \"Google Chrome\";v=\"102\"',\n",
    "    'user-agent': 'Mozilla/5.0 (Windows NT 10.0; Win64; x64) AppleWebKit/537.36 (KHTML, like Gecko) Chrome/102.0.0.0 Safari/537.36'\n",
    "}"
   ]
  },
  {
   "cell_type": "code",
   "execution_count": 72,
   "id": "17b5ac3e-9d29-46dc-b8c3-e5d8d61d97b9",
   "metadata": {},
   "outputs": [
    {
     "name": "stdin",
     "output_type": "stream",
     "text": [
      " https://www.amazon.in/BLUETYGA-SUNSCREEN-Workout-Trekking-Sunscreen/dp/B0CB8BR154/ref=sr_1_1?_encoding=UTF8&content-id=amzn1.sym.74f25a9d-e850-443b-a26a-da459bed7e95&dib=eyJ2IjoiMSJ9.zsTl9IMo6YLaoaZdKU5DzIdH712e5Z_dfqNpuiqDvNT2JEClhCiHUczKQ_uORUXuj5VMOhP14NwTDLLnfKASqrYA-SlxPsd5btlbc-nhCPpLnMRoL0kTzXzHFlClPSssa3dboBiTJdyMjZGw3WIxEjPZyY7vC8FfHpcTZ5D2Q4nhcpyhpNOoEAgwuNoicNfchD-arKXAiPukTpNQvBbUusAenCqVOMHJP9-aUnjx1B6rSFW6ELJSIV4GEXywYoAJ0dwYlbPGqRvdNECwE6mX-YAt30PMXDhXQxL5vuzP4_g.8QRmSLZBs3ymiWYSBCngQX9cj3OffP3j0aRpki18T5s&dib_tag=se&pd_rd_r=61d14ad9-ed38-46a5-8837-e80d4569abff&pd_rd_w=kN9iI&pd_rd_wg=5ws4x&pf_rd_p=74f25a9d-e850-443b-a26a-da459bed7e95&pf_rd_r=2T9QDJVDG5HYWT2WZFQW&qid=1726738719&refinements=p_n_specials_match%3A21618256031%2Cp_85%3A10440599031%2Cp_n_feature_nineteen_browse-bin%3A11301357031&rnid=11301356031&rps=1&s=apparel&sr=1-1\n"
     ]
    }
   ],
   "source": [
    "product_url=input()\n",
    "# https://www.amazon.com/Invicta-8926OB-Stainless-Automatic-Bracelet/dp/B000JQFX1G/?_encoding=UTF8&pd_rd_w=oivdj&content-id=amzn1.sym.6cf7c564-ca00-466b-86d0-47197a966847&pf_rd_p=6cf7c564-ca00-466b-86d0-47197a966847&pf_rd_r=B6N0XX1NXHP4ZV6JZ6RQ&pd_rd_wg=4JYln&pd_rd_r=7c96c10f-2150-47d9-bdc2-27cabcad19ba&ref_=pd_hp_d_btf_nta-top-sellers&th=1\n",
    "\n"
   ]
  },
  {
   "cell_type": "code",
   "execution_count": 75,
   "id": "9153c99c-b54b-464e-8701-46133d60a0c7",
   "metadata": {},
   "outputs": [],
   "source": [
    "import re\n",
    "\n",
    "\n",
    "def extract_product_info(url):\n",
    "    comf=False\n",
    "   \n",
    "    pattern = r\"amazon\\.in/([^/]+)/dp/([^/?]+)\" \n",
    "\n",
    "        \n",
    "    \n",
    "   \n",
    "    match = re.search(pattern, url)\n",
    "    if not match:\n",
    "        pattern=r\"amazon\\.com/([^/]+)/dp/([^/?]+)\" \n",
    "        match = re.search(pattern, url)\n",
    "        comf=True\n",
    "        \n",
    "    \n",
    "    if match:\n",
    "        product_name = match.group(1)\n",
    "        product_id = match.group(2)\n",
    "        return product_name, product_id,comf\n",
    "    else:\n",
    "        return None, None,True\n",
    "\n",
    "\n",
    "\n"
   ]
  },
  {
   "cell_type": "code",
   "execution_count": 76,
   "id": "6e42cc9f-eadd-4aba-af43-f96c273d65ff",
   "metadata": {},
   "outputs": [
    {
     "name": "stdout",
     "output_type": "stream",
     "text": [
      "Product Name: BLUETYGA-SUNSCREEN-Workout-Trekking-Sunscreen\n",
      "Product ID: B0CB8BR154\n"
     ]
    }
   ],
   "source": [
    "\n",
    "product_name, product_id,comf = extract_product_info(product_url)\n",
    "\n",
    "if product_name and product_id:\n",
    "    print(f\"Product Name: {product_name}\")\n",
    "    print(f\"Product ID: {product_id}\")\n",
    "else:\n",
    "    print(\"Product information not found.\")"
   ]
  },
  {
   "cell_type": "code",
   "execution_count": 102,
   "id": "f19e72fc",
   "metadata": {},
   "outputs": [],
   "source": [
    "\n",
    "reviews_url = 'https://www.amazon.com/'+product_name+'/product-reviews/'+product_id\n",
    "\n",
    "    "
   ]
  },
  {
   "cell_type": "code",
   "execution_count": 103,
   "id": "482d0e17-87f0-44a6-a42b-61262676a65d",
   "metadata": {},
   "outputs": [
    {
     "data": {
      "text/plain": [
       "'https://www.amazon.com/BLUETYGA-SUNSCREEN-Workout-Trekking-Sunscreen/product-reviews/B0CB8BR154'"
      ]
     },
     "execution_count": 103,
     "metadata": {},
     "output_type": "execute_result"
    }
   ],
   "source": [
    "reviews_url"
   ]
  },
  {
   "cell_type": "code",
   "execution_count": 104,
   "id": "51563925",
   "metadata": {},
   "outputs": [],
   "source": [
    "\n",
    "len_page = 4"
   ]
  },
  {
   "cell_type": "code",
   "execution_count": 105,
   "id": "75b0d65d",
   "metadata": {},
   "outputs": [],
   "source": [
    "\n",
    "def reviewsHtml(url, len_page):\n",
    "    \n",
    "    \n",
    "    soups = []\n",
    "    \n",
    "    \n",
    "    for page_no in range(1, len_page + 1):\n",
    "        \n",
    "        \n",
    "        params = {\n",
    "            'ie': 'UTF8',\n",
    "            'reviewerType': 'all_reviews',\n",
    "            'filterByStar': 'critical',\n",
    "            'pageNumber': page_no,\n",
    "        }\n",
    "        \n",
    "        \n",
    "        response = requests.get(url, headers=headers)\n",
    "        \n",
    "      \n",
    "        soup = BeautifulSoup(response.text, 'lxml')\n",
    "        \n",
    "        \n",
    "        soups.append(soup)\n",
    "        \n",
    "    return soups"
   ]
  },
  {
   "cell_type": "code",
   "execution_count": 106,
   "id": "8dd5f9c7",
   "metadata": {},
   "outputs": [],
   "source": [
    "\n",
    "def getReviews(html_data):\n",
    "\n",
    "    data_dicts = []\n",
    "    \n",
    "    \n",
    "    boxes = html_data.select('div[data-hook=\"review\"]')\n",
    "    \n",
    "     \n",
    "    for box in boxes:\n",
    "        \n",
    "      \n",
    "        try:\n",
    "            name = box.select_one('[class=\"a-profile-name\"]').text.strip()\n",
    "        except Exception as e:\n",
    "            name = 'N/A'\n",
    "\n",
    "        try:\n",
    "            stars = box.select_one('[data-hook=\"review-star-rating\"]').text.strip().split(' out')[0]\n",
    "        except Exception as e:\n",
    "            stars = 'N/A'   \n",
    "\n",
    "        try:\n",
    "            title = box.select_one('[data-hook=\"review-title\"]').text.strip()\n",
    "        except Exception as e:\n",
    "            title = 'N/A'\n",
    "\n",
    "        try:\n",
    "           \n",
    "            datetime_str = box.select_one('[data-hook=\"review-date\"]').text.strip().split(' on ')[-1]\n",
    "            date = datetime.strptime(datetime_str, '%B %d, %Y').strftime(\"%d/%m/%Y\")\n",
    "        except Exception as e:\n",
    "            date = 'N/A'\n",
    "\n",
    "        try:\n",
    "            description = box.select_one('[data-hook=\"review-body\"]').text.strip()\n",
    "        except Exception as e:\n",
    "            description = 'N/A'\n",
    "\n",
    "        \n",
    "        data_dict = {\n",
    "            'Name' : name,\n",
    "            'Stars' : stars,\n",
    "            'Title' : title,\n",
    "            'Date' : date,\n",
    "            'Description' : description\n",
    "        }\n",
    "\n",
    "        \n",
    "        data_dicts.append(data_dict)\n",
    "    \n",
    "    return data_dicts"
   ]
  },
  {
   "cell_type": "code",
   "execution_count": 107,
   "id": "83731672",
   "metadata": {
    "scrolled": true
   },
   "outputs": [],
   "source": [
    "\n",
    "html_datas = reviewsHtml(reviews_url, len_page)"
   ]
  },
  {
   "cell_type": "code",
   "execution_count": 108,
   "id": "545bb6ed",
   "metadata": {},
   "outputs": [],
   "source": [
    "\n",
    "reviews = []"
   ]
  },
  {
   "cell_type": "code",
   "execution_count": 109,
   "id": "a26391c7",
   "metadata": {},
   "outputs": [],
   "source": [
    "\n",
    "for html_data in html_datas:\n",
    "    \n",
    "   \n",
    "    review = getReviews(html_data)\n",
    "    \n",
    "  \n",
    "    reviews += review"
   ]
  },
  {
   "cell_type": "code",
   "execution_count": 110,
   "id": "25fd4ec7",
   "metadata": {},
   "outputs": [
    {
     "data": {
      "text/html": [
       "<div>\n",
       "<style scoped>\n",
       "    .dataframe tbody tr th:only-of-type {\n",
       "        vertical-align: middle;\n",
       "    }\n",
       "\n",
       "    .dataframe tbody tr th {\n",
       "        vertical-align: top;\n",
       "    }\n",
       "\n",
       "    .dataframe thead th {\n",
       "        text-align: right;\n",
       "    }\n",
       "</style>\n",
       "<table border=\"1\" class=\"dataframe\">\n",
       "  <thead>\n",
       "    <tr style=\"text-align: right;\">\n",
       "      <th></th>\n",
       "    </tr>\n",
       "  </thead>\n",
       "  <tbody>\n",
       "  </tbody>\n",
       "</table>\n",
       "</div>"
      ],
      "text/plain": [
       "Empty DataFrame\n",
       "Columns: []\n",
       "Index: []"
      ]
     },
     "execution_count": 110,
     "metadata": {},
     "output_type": "execute_result"
    }
   ],
   "source": [
    "\n",
    "df_reviews = pd.DataFrame(reviews)\n",
    "df_reviews"
   ]
  },
  {
   "cell_type": "code",
   "execution_count": 20,
   "id": "53a4b504",
   "metadata": {},
   "outputs": [],
   "source": [
    "\n",
    "df_reviews.to_csv('reviews.csv', index=False)"
   ]
  },
  {
   "cell_type": "code",
   "execution_count": null,
   "id": "4da15509",
   "metadata": {},
   "outputs": [],
   "source": []
  }
 ],
 "metadata": {
  "kernelspec": {
   "display_name": "Python 3 (ipykernel)",
   "language": "python",
   "name": "python3"
  },
  "language_info": {
   "codemirror_mode": {
    "name": "ipython",
    "version": 3
   },
   "file_extension": ".py",
   "mimetype": "text/x-python",
   "name": "python",
   "nbconvert_exporter": "python",
   "pygments_lexer": "ipython3",
   "version": "3.12.4"
  }
 },
 "nbformat": 4,
 "nbformat_minor": 5
}
